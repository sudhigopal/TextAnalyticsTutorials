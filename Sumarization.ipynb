{
 "cells": [
  {
   "cell_type": "code",
   "execution_count": 1,
   "metadata": {},
   "outputs": [],
   "source": [
    "import pandas as pd\n",
    "import numpy as np\n",
    "import networkx as nx\n",
    "import nltk\n",
    "import re"
   ]
  },
  {
   "cell_type": "code",
   "execution_count": 2,
   "metadata": {},
   "outputs": [],
   "source": [
    "from gensim.summarization import summarize, keywords\n",
    "from nltk.corpus import stopwords\n",
    "from gensim.models import Word2Vec, KeyedVectors\n",
    "from nltk.tokenize import sent_tokenize, word_tokenize\n",
    "from nltk.stem import WordNetLemmatizer\n",
    "from sklearn.metrics.pairwise import cosine_similarity"
   ]
  },
  {
   "cell_type": "code",
   "execution_count": 3,
   "metadata": {},
   "outputs": [],
   "source": [
    "toy_text = \"\"\"\n",
    "A year after 2018’s teacher walkout, ripples are still being made in Oklahoma, influencing legislation and inspiring members of the OU community.  \n",
    "\n",
    "What began with a passionate meeting held by Oklahoma teachers on March 2, 2018, transformed into a statewide walkout within a month, when on April 2, 2018 teachers collectively protested low pay and less-than-adequate education funding by “walking out” and refusing to return to their jobs.\n",
    "\n",
    "Thousands of teachers from all across Oklahoma flooded the Oklahoma Capitol every day of the 10-day protest, holding rallies in the rotunda and raising their voices in support of funding education.\n",
    "\n",
    "Prior to the walkout, a bill was passed — the first since the 1990 strike — that raised teacher salaries by $6,000, allocated $50 million for education funding, and raised salaries of support staff by $1,250. But for some teachers, the bill ignored demands from the Oklahoma Education Association, and on April 2, teachers flooded the Capitol voicing their dissatisfaction.\n",
    "\"\"\""
   ]
  },
  {
   "cell_type": "code",
   "execution_count": 4,
   "metadata": {},
   "outputs": [],
   "source": [
    "summary = summarize('\\n'.join(sent_tokenize(toy_text)), split=True, ratio=0.5)"
   ]
  },
  {
   "cell_type": "code",
   "execution_count": 5,
   "metadata": {},
   "outputs": [
    {
     "data": {
      "text/plain": [
       "['Thousands of teachers from all across Oklahoma flooded the Oklahoma Capitol every day of the 10-day protest, holding rallies in the rotunda and raising their voices in support of funding education.',\n",
       " 'But for some teachers, the bill ignored demands from the Oklahoma Education Association, and on April 2, teachers flooded the Capitol voicing their dissatisfaction.']"
      ]
     },
     "execution_count": 5,
     "metadata": {},
     "output_type": "execute_result"
    }
   ],
   "source": [
    "summary\n"
   ]
  },
  {
   "cell_type": "code",
   "execution_count": 6,
   "metadata": {},
   "outputs": [],
   "source": [
    "clean_sentences = pd.Series(toy_text.split('\\n')).str.replace(\"[^a-zA-Z]\", \" \")\n",
    "# clean_sentences = [s.lower() for s in clean_sentences]\n",
    "clean_sentences = [s for s in clean_sentences if len(s)!=0]"
   ]
  },
  {
   "cell_type": "code",
   "execution_count": 7,
   "metadata": {},
   "outputs": [],
   "source": [
    "stops = stopwords.words('english')"
   ]
  },
  {
   "cell_type": "code",
   "execution_count": 8,
   "metadata": {},
   "outputs": [],
   "source": [
    "def remove_stopwords(sen):\n",
    "    sen_new = \" \".join([i for i in sen if i not in stops])\n",
    "    return sen_new\n",
    "# clean_sentences = [remove_stopwords(r.split()) for r in clean_sentences]"
   ]
  },
  {
   "cell_type": "code",
   "execution_count": 9,
   "metadata": {},
   "outputs": [
    {
     "data": {
      "text/plain": [
       "['A year after      s teacher walkout  ripples are still being made in Oklahoma  influencing legislation and inspiring members of the OU community   ',\n",
       " 'What began with a passionate meeting held by Oklahoma teachers on March          transformed into a statewide walkout within a month  when on April         teachers collectively protested low pay and less than adequate education funding by  walking out  and refusing to return to their jobs ',\n",
       " 'Thousands of teachers from all across Oklahoma flooded the Oklahoma Capitol every day of the    day protest  holding rallies in the rotunda and raising their voices in support of funding education ',\n",
       " 'Prior to the walkout  a bill was passed   the first since the      strike   that raised teacher salaries by         allocated     million for education funding  and raised salaries of support staff by         But for some teachers  the bill ignored demands from the Oklahoma Education Association  and on April    teachers flooded the Capitol voicing their dissatisfaction ']"
      ]
     },
     "execution_count": 9,
     "metadata": {},
     "output_type": "execute_result"
    }
   ],
   "source": [
    "clean_sentences"
   ]
  },
  {
   "cell_type": "code",
   "execution_count": 10,
   "metadata": {},
   "outputs": [],
   "source": [
    "# keyedModel = KeyedVectors.load_word2vec_format('../GoogleNews-vectors-negative300.bin', binary = True)"
   ]
  },
  {
   "cell_type": "code",
   "execution_count": null,
   "metadata": {},
   "outputs": [],
   "source": [
    "lemma = WordNetLemmatizer()\n",
    "sent_vector = []\n",
    "v = 0\n",
    "for i in clean_sentences:\n",
    "    if(len(i)!=0):\n",
    "        v = sum(keyedModel[lemma.lemmatize(w)] for w in i.split())/len(i.split())+0.001\n",
    "    sent_vector.append(v)\n"
   ]
  },
  {
   "cell_type": "code",
   "execution_count": null,
   "metadata": {},
   "outputs": [],
   "source": [
    "len(clean_sentences)"
   ]
  },
  {
   "cell_type": "code",
   "execution_count": null,
   "metadata": {},
   "outputs": [],
   "source": [
    "sim_mat = np.zeros([len(clean_sentences), len(clean_sentences)])\n",
    "for i in range(len(clean_sentences)):\n",
    "    for j in range(len(clean_sentences)):\n",
    "        if i != j:\n",
    "\n",
    "            sim_mat[i][j] = cosine_similarity(sent_vector[i].reshape(1,v.shape[0]), sent_vector[j].reshape(1,v.shape[0]))[0,0]"
   ]
  },
  {
   "cell_type": "code",
   "execution_count": null,
   "metadata": {},
   "outputs": [],
   "source": [
    "sim_mat"
   ]
  },
  {
   "cell_type": "code",
   "execution_count": null,
   "metadata": {},
   "outputs": [],
   "source": [
    "nx_graph = nx.from_numpy_array(sim_mat)\n",
    "scores = nx.pagerank(nx_graph)"
   ]
  },
  {
   "cell_type": "code",
   "execution_count": null,
   "metadata": {},
   "outputs": [],
   "source": [
    "ranked_sent = sorted(((scores[i],s) for i,s in enumerate(clean_sentences)), reverse=True)"
   ]
  },
  {
   "cell_type": "code",
   "execution_count": null,
   "metadata": {},
   "outputs": [],
   "source": [
    "ranked_sent"
   ]
  }
 ],
 "metadata": {
  "kernelspec": {
   "display_name": "Python 3",
   "language": "python",
   "name": "python3"
  },
  "language_info": {
   "codemirror_mode": {
    "name": "ipython",
    "version": 3
   },
   "file_extension": ".py",
   "mimetype": "text/x-python",
   "name": "python",
   "nbconvert_exporter": "python",
   "pygments_lexer": "ipython3",
   "version": "3.7.0"
  }
 },
 "nbformat": 4,
 "nbformat_minor": 2
}
