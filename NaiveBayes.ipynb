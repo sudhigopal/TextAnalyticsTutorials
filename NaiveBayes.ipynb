{
 "cells": [
  {
   "cell_type": "code",
   "execution_count": 2,
   "metadata": {},
   "outputs": [],
   "source": [
    "import pandas as pd\n",
    "from nltk.tokenize import word_tokenize\n",
    "from nltk.stem import WordNetLemmatizer\n",
    "from sklearn.feature_extraction.text import CountVectorizer, TfidfTransformer\n",
    "from sklearn.model_selection import train_test_split\n",
    "from sklearn.naive_bayes import MultinomialNB"
   ]
  },
  {
   "cell_type": "code",
   "execution_count": 3,
   "metadata": {},
   "outputs": [
    {
     "name": "stderr",
     "output_type": "stream",
     "text": [
      "/Library/Frameworks/Python.framework/Versions/3.7/lib/python3.7/site-packages/ipykernel_launcher.py:5: FutureWarning: read_table is deprecated, use read_csv instead.\n",
      "  \"\"\"\n"
     ]
    }
   ],
   "source": [
    "\n",
    "data = pd.read_table('SMSSpamCollection',\n",
    "                    sep = '\\t',\n",
    "                    header = None,\n",
    "                    names=['label', 'message'])"
   ]
  },
  {
   "cell_type": "code",
   "execution_count": 4,
   "metadata": {},
   "outputs": [],
   "source": [
    "# Text Normalization\n",
    "lemma = WordNetLemmatizer()\n",
    "data['label'] = data.label.map({'ham': 0, 'spam': 1})  \n",
    "data['message'] = data.message.map(lambda x: x.lower())  \n",
    "data['message'] = data.message.str.replace('[^\\w\\s]', '')  \n",
    "data['message'] = data['message'].apply(word_tokenize)\n",
    "data['message'] = data['message'].apply(lambda x: [lemma.lemmatize(y) for y in x])  \n",
    "data['message'] = data['message'].apply(lambda x: ' '.join(x))"
   ]
  },
  {
   "cell_type": "code",
   "execution_count": 5,
   "metadata": {},
   "outputs": [],
   "source": [
    "CountVec = CountVectorizer()\n",
    "counts = CountVec.fit_transform(data['message'])"
   ]
  },
  {
   "cell_type": "code",
   "execution_count": 6,
   "metadata": {},
   "outputs": [],
   "source": [
    "X_train, X_test , y_train, y_test = train_test_split(counts, data['label'],\n",
    "                                                   test_size = 0.2)"
   ]
  },
  {
   "cell_type": "code",
   "execution_count": 7,
   "metadata": {},
   "outputs": [],
   "source": [
    "model = MultinomialNB().fit(X_train, y_train)"
   ]
  },
  {
   "cell_type": "code",
   "execution_count": 8,
   "metadata": {},
   "outputs": [],
   "source": [
    "predict = model.predict(X_test)"
   ]
  },
  {
   "cell_type": "code",
   "execution_count": 9,
   "metadata": {},
   "outputs": [
    {
     "data": {
      "text/plain": [
       "array([0, 0, 0, ..., 0, 0, 0])"
      ]
     },
     "execution_count": 9,
     "metadata": {},
     "output_type": "execute_result"
    }
   ],
   "source": [
    "predict"
   ]
  },
  {
   "cell_type": "code",
   "execution_count": 11,
   "metadata": {},
   "outputs": [
    {
     "data": {
      "text/plain": [
       "4263    0\n",
       "76      0\n",
       "496     0\n",
       "1851    0\n",
       "5047    0\n",
       "1431    0\n",
       "953     0\n",
       "3987    0\n",
       "701     0\n",
       "5451    0\n",
       "896     0\n",
       "1859    0\n",
       "3785    0\n",
       "5028    1\n",
       "4419    0\n",
       "2548    1\n",
       "703     0\n",
       "2847    0\n",
       "3610    0\n",
       "1836    0\n",
       "965     0\n",
       "3009    1\n",
       "4199    1\n",
       "1621    0\n",
       "450     0\n",
       "787     0\n",
       "3819    1\n",
       "4979    0\n",
       "3011    0\n",
       "4693    0\n",
       "       ..\n",
       "3356    0\n",
       "747     0\n",
       "1055    0\n",
       "2238    0\n",
       "4074    0\n",
       "5521    0\n",
       "2209    1\n",
       "2662    0\n",
       "3770    0\n",
       "3561    0\n",
       "561     0\n",
       "4789    0\n",
       "1704    0\n",
       "4647    1\n",
       "5508    0\n",
       "5113    0\n",
       "2144    0\n",
       "5093    0\n",
       "2903    0\n",
       "4427    0\n",
       "3992    0\n",
       "2347    0\n",
       "4946    0\n",
       "840     1\n",
       "1936    0\n",
       "3116    0\n",
       "1943    0\n",
       "5053    0\n",
       "2777    0\n",
       "4697    0\n",
       "Name: label, Length: 1115, dtype: int64"
      ]
     },
     "execution_count": 11,
     "metadata": {},
     "output_type": "execute_result"
    }
   ],
   "source": [
    "y_test"
   ]
  },
  {
   "cell_type": "code",
   "execution_count": 10,
   "metadata": {},
   "outputs": [
    {
     "name": "stdout",
     "output_type": "stream",
     "text": [
      "0.9811659192825112\n"
     ]
    }
   ],
   "source": [
    "print(model.score(X_test, y_test))"
   ]
  }
 ],
 "metadata": {
  "kernelspec": {
   "display_name": "Python 3",
   "language": "python",
   "name": "python3"
  },
  "language_info": {
   "codemirror_mode": {
    "name": "ipython",
    "version": 3
   },
   "file_extension": ".py",
   "mimetype": "text/x-python",
   "name": "python",
   "nbconvert_exporter": "python",
   "pygments_lexer": "ipython3",
   "version": "3.7.0"
  }
 },
 "nbformat": 4,
 "nbformat_minor": 2
}
